{
 "cells": [
  {
   "cell_type": "code",
   "execution_count": 7,
   "id": "826916f9",
   "metadata": {},
   "outputs": [
    {
     "name": "stdout",
     "output_type": "stream",
     "text": [
      "Twinkle,twinkle,little star\n",
      "        How I wonder what you are!\n",
      "                Up above the world so high,\n",
      "                Like a diamond in the sky.\n",
      "Twinkle,twinkle,little star\n",
      "        How I wonder what you are!\n"
     ]
    }
   ],
   "source": [
    "print(\"Twinkle,twinkle,little star\");\n",
    "print(\"        How I wonder what you are!\");\n",
    "print(\"                Up above the world so high,\")\n",
    "print(\"                Like a diamond in the sky.\")\n",
    "print(\"Twinkle,twinkle,little star\");\n",
    "print(\"        How I wonder what you are!\");"
   ]
  },
  {
   "cell_type": "code",
   "execution_count": 10,
   "id": "65f555d5",
   "metadata": {},
   "outputs": [
    {
     "name": "stdout",
     "output_type": "stream",
     "text": [
      "3.9.7\n"
     ]
    }
   ],
   "source": [
    "from platform import python_version\n",
    "print(python_version())"
   ]
  },
  {
   "cell_type": "code",
   "execution_count": 11,
   "id": "dbe955e3",
   "metadata": {},
   "outputs": [
    {
     "name": "stdout",
     "output_type": "stream",
     "text": [
      "2021-12-29 22:49:25.799809\n"
     ]
    }
   ],
   "source": [
    "from datetime import datetime\n",
    "print(datetime.now())"
   ]
  },
  {
   "cell_type": "code",
   "execution_count": 26,
   "id": "128c3d43",
   "metadata": {},
   "outputs": [
    {
     "name": "stdout",
     "output_type": "stream",
     "text": [
      "Enter radius 5\n",
      "area = 78.5\n"
     ]
    }
   ],
   "source": [
    "radius = input(\"Enter radius \")\n",
    "area = float(3.14)*float(radius)*float(radius)\n",
    "print(\"area =\",area)"
   ]
  },
  {
   "cell_type": "code",
   "execution_count": 28,
   "id": "4f4481aa",
   "metadata": {},
   "outputs": [
    {
     "name": "stdout",
     "output_type": "stream",
     "text": [
      "Enter First Name Ali\n",
      "Enter Last Name Usama\n",
      "Usama Ali\n"
     ]
    }
   ],
   "source": [
    "firstName = input(\"Enter First Name \")\n",
    "lastName = input(\"Enter Last Name \")\n",
    "print(lastName, firstName)"
   ]
  },
  {
   "cell_type": "code",
   "execution_count": 35,
   "id": "64ae5bc1",
   "metadata": {},
   "outputs": [
    {
     "name": "stdout",
     "output_type": "stream",
     "text": [
      "Enter first number 5\n",
      "Enter second number 20\n",
      "sum = 25.0\n"
     ]
    }
   ],
   "source": [
    "a = input(\"Enter first number \")\n",
    "b = input(\"Enter second number \")\n",
    "print(\"sum =\", float(a) + float(b))"
   ]
  }
 ],
 "metadata": {
  "kernelspec": {
   "display_name": "Python 3 (ipykernel)",
   "language": "python",
   "name": "python3"
  },
  "language_info": {
   "codemirror_mode": {
    "name": "ipython",
    "version": 3
   },
   "file_extension": ".py",
   "mimetype": "text/x-python",
   "name": "python",
   "nbconvert_exporter": "python",
   "pygments_lexer": "ipython3",
   "version": "3.9.7"
  }
 },
 "nbformat": 4,
 "nbformat_minor": 5
}
